{
 "cells": [
  {
   "cell_type": "markdown",
   "metadata": {},
   "source": [
    "# Tuples\n",
    "* Can't add or change it\n",
    "* Useful for fixed data\n",
    "* Faster than a list\n",
    "* Sequence"
   ]
  },
  {
   "cell_type": "markdown",
   "metadata": {},
   "source": [
    "### 1. Creating tuple (constructor)"
   ]
  },
  {
   "cell_type": "code",
   "execution_count": 2,
   "metadata": {},
   "outputs": [],
   "source": [
    "x = ()\n",
    "x = (1, 2, 3)\n",
    "x = 1, 2, 3\n",
    "x = tuple([1, 2, 3])\n",
    "x = 1,         # ',' means it is tuple, not variable"
   ]
  },
  {
   "cell_type": "markdown",
   "metadata": {},
   "source": [
    "### 2. Immutable (can't be changed)"
   ]
  },
  {
   "cell_type": "code",
   "execution_count": 8,
   "metadata": {},
   "outputs": [],
   "source": [
    "x = (1, 2, 3)\n",
    "# del(x[1])      # fails\n",
    "# x[1] = 8       # fails\n",
    "\n",
    "y = ([1, 2], 3)\n",
    "del(y[0][1])     # but you can delete inner list item from tuple\n",
    "\n",
    "y += (4,)        # concatinating"
   ]
  },
  {
   "cell_type": "markdown",
   "metadata": {},
   "source": [
    "# Sets\n",
    "* Store non-dublicate items\n",
    "* VERY fast in comparison with lists\n",
    "* Math SET ops\n",
    "* Unordered"
   ]
  },
  {
   "cell_type": "markdown",
   "metadata": {},
   "source": [
    "### 1. Creating Sets"
   ]
  },
  {
   "cell_type": "code",
   "execution_count": 10,
   "metadata": {},
   "outputs": [],
   "source": [
    "s = {3, 5, 3, 5}  # result {3, 5}\n",
    "s = set([1, 2, 3])"
   ]
  },
  {
   "cell_type": "markdown",
   "metadata": {},
   "source": [
    "### 2. Operations"
   ]
  },
  {
   "cell_type": "code",
   "execution_count": 12,
   "metadata": {},
   "outputs": [],
   "source": [
    "x = {3, 8, 5}\n",
    "\n",
    "x.add(7)\n",
    "x.remove(8)"
   ]
  },
  {
   "cell_type": "markdown",
   "metadata": {},
   "source": [
    "### 3. Pop\n",
    "* Since set is not ordered it pops RANDOM item"
   ]
  },
  {
   "cell_type": "markdown",
   "metadata": {},
   "source": [
    "### 4. Delete"
   ]
  },
  {
   "cell_type": "code",
   "execution_count": 16,
   "metadata": {},
   "outputs": [],
   "source": [
    "x = {1, 2 ,3, 4}  # delete all items from sets\n",
    "x.clear()"
   ]
  },
  {
   "cell_type": "markdown",
   "metadata": {},
   "source": [
    "### 5. Math Set Operations"
   ]
  },
  {
   "cell_type": "code",
   "execution_count": null,
   "metadata": {},
   "outputs": [],
   "source": [
    "s1 & s2   # (AND) Intersection\n",
    "s1 | s2   # (OR) Union\n",
    "s1 ^ s2   # Symmetric difference\n",
    "s1 - s2   # Difference between sets\n",
    "s1 <= s2  # s2 contains s1 (subsets)\n",
    "s1 >= s1  # s1 containts s2 (superset)"
   ]
  }
 ],
 "metadata": {
  "kernelspec": {
   "display_name": "Python 3",
   "language": "python",
   "name": "python3"
  },
  "language_info": {
   "codemirror_mode": {
    "name": "ipython",
    "version": 3
   },
   "file_extension": ".py",
   "mimetype": "text/x-python",
   "name": "python",
   "nbconvert_exporter": "python",
   "pygments_lexer": "ipython3",
   "version": "3.8.5"
  }
 },
 "nbformat": 4,
 "nbformat_minor": 4
}
