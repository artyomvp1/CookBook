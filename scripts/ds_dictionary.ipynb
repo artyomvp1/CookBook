{
 "cells": [
  {
   "cell_type": "markdown",
   "metadata": {},
   "source": [
    "### Description\n",
    "* Key-Value pairs\n",
    "* Associatinve array\n",
    "* Unordered"
   ]
  },
  {
   "cell_type": "markdown",
   "metadata": {},
   "source": [
    "### 1. Create dictonary"
   ]
  },
  {
   "cell_type": "code",
   "execution_count": 4,
   "metadata": {},
   "outputs": [],
   "source": [
    "x = {'pork':2, 'beef':3, 'chicken':1}\n",
    "x = dict([('pork', 2), ('beef', 3), ('chicken', 1)])\n",
    "x = dict(pork=2, beef=3, chicken=1)"
   ]
  },
  {
   "cell_type": "markdown",
   "metadata": {},
   "source": [
    "### 2. Operations"
   ]
  },
  {
   "cell_type": "code",
   "execution_count": 7,
   "metadata": {},
   "outputs": [],
   "source": [
    "x['Shrimp'] = 4   # add/update\n",
    "del(x['Shrimp'])  # delete\n",
    "x.clear()         # delete all items\n",
    "del(x)            # delete dict"
   ]
  },
  {
   "cell_type": "markdown",
   "metadata": {},
   "source": [
    "### 3. Accessing keys and values"
   ]
  },
  {
   "cell_type": "code",
   "execution_count": null,
   "metadata": {},
   "outputs": [],
   "source": [
    "x = {'pork':2, 'beef':3, 'chicken':1}\n",
    "print(x.keys())\n",
    "print(x.values())\n",
    "print(x.items())\n",
    "print('beef' in x)             # check membership in keys\n",
    "print('claims' in x.values())  # check membership in values"
   ]
  },
  {
   "cell_type": "markdown",
   "metadata": {},
   "source": [
    "### Itterating a Dict"
   ]
  },
  {
   "cell_type": "code",
   "execution_count": 13,
   "metadata": {},
   "outputs": [
    {
     "name": "stdout",
     "output_type": "stream",
     "text": [
      "pork 2\n",
      "beef 3\n",
      "chicken 1\n",
      "pork 2\n",
      "beef 3\n",
      "chicken 1\n"
     ]
    }
   ],
   "source": [
    "for i in x:\n",
    "    print(i, x[i])\n",
    "\n",
    "for i, j in x.items():\n",
    "    print(i, j)"
   ]
  },
  {
   "cell_type": "code",
   "execution_count": null,
   "metadata": {},
   "outputs": [],
   "source": []
  }
 ],
 "metadata": {
  "kernelspec": {
   "display_name": "Python 3",
   "language": "python",
   "name": "python3"
  },
  "language_info": {
   "codemirror_mode": {
    "name": "ipython",
    "version": 3
   },
   "file_extension": ".py",
   "mimetype": "text/x-python",
   "name": "python",
   "nbconvert_exporter": "python",
   "pygments_lexer": "ipython3",
   "version": "3.8.5"
  }
 },
 "nbformat": 4,
 "nbformat_minor": 4
}
